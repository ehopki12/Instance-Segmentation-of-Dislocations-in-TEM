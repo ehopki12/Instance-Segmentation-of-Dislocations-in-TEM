{
 "cells": [
  {
   "cell_type": "code",
   "execution_count": 2,
   "id": "10373920",
   "metadata": {},
   "outputs": [],
   "source": [
    "from ultralytics import YOLO\n",
    "import numpy as np"
   ]
  },
  {
   "cell_type": "code",
   "execution_count": 3,
   "id": "24c7b154",
   "metadata": {},
   "outputs": [],
   "source": [
    "# load the weights \n",
    "checkpoint_path = \"../checkpoint/yolov8_large_weights.pt\"\n",
    "\n",
    "model = YOLO(checkpoint_path)"
   ]
  },
  {
   "cell_type": "markdown",
   "id": "7b5f7936",
   "metadata": {},
   "source": [
    "# start making predictions on TEM images "
   ]
  },
  {
   "cell_type": "code",
   "execution_count": 4,
   "id": "43a7f979",
   "metadata": {
    "scrolled": true
   },
   "outputs": [
    {
     "name": "stderr",
     "output_type": "stream",
     "text": [
      "Ultralytics YOLOv8.0.49 🚀 Python-3.9.5 torch-2.0.1+cu117 CUDA:0 (NVIDIA GeForce RTX 3090, 24257MiB)\n",
      "YOLOv8x-seg summary (fused): 295 layers, 71721619 parameters, 0 gradients, 343.7 GFLOPs\n",
      "\n",
      "image 1/1 /home/k.govind/Desktop/PhD_work/Publications/IEEE-Nano/2023_IEEE_Instance-Segmentation-of-Dislocations-in-TEM/sample_images/sample1.jpg: 640x640 6 pileup_0s, 48.1ms\n",
      "Speed: 1.6ms preprocess, 48.1ms inference, 24.7ms postprocess per image at shape (1, 3, 640, 640)\n",
      "Results saved to \u001b[1m/home/k.govind/Desktop/PhD_work/Publications/IEEE-Nano/2023_IEEE_Instance-Segmentation-of-Dislocations-in-TEM/runs/segment/predict2\u001b[0m\n"
     ]
    }
   ],
   "source": [
    "#example, you can put there entire folder, if you like\n",
    "\n",
    "res=model.predict(\"../sample_images/sample1.jpg\",\n",
    "                  save=True,\n",
    "                  hide_labels=True,\n",
    "                  conf=0.6,\n",
    "                  iou=0.8,\n",
    "                  line_thickness=1,\n",
    "                  retina_masks=True,\n",
    "                  agnostic_nms=True)\n"
   ]
  },
  {
   "cell_type": "code",
   "execution_count": null,
   "id": "fa4e0994",
   "metadata": {},
   "outputs": [],
   "source": []
  }
 ],
 "metadata": {
  "kernelspec": {
   "display_name": "NanoPaper",
   "language": "python",
   "name": "nano__paperrepo"
  },
  "language_info": {
   "codemirror_mode": {
    "name": "ipython",
    "version": 3
   },
   "file_extension": ".py",
   "mimetype": "text/x-python",
   "name": "python",
   "nbconvert_exporter": "python",
   "pygments_lexer": "ipython3",
   "version": "3.9.5"
  }
 },
 "nbformat": 4,
 "nbformat_minor": 5
}
