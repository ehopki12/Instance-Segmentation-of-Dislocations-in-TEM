{
 "cells": [
  {
   "cell_type": "code",
   "execution_count": 4,
   "id": "10373920",
   "metadata": {},
   "outputs": [],
   "source": [
    "from ultralytics import YOLO\n",
    "import numpy as np"
   ]
  },
  {
   "cell_type": "code",
   "execution_count": 2,
   "id": "24c7b154",
   "metadata": {},
   "outputs": [],
   "source": [
    "# load the weights \n",
    "checkpoint_path = \"../checkpoint/yolov8_large_weights.pt\"\n",
    "\n",
    "model = YOLO(checkpoint_path)"
   ]
  },
  {
   "cell_type": "markdown",
   "id": "7b5f7936",
   "metadata": {},
   "source": [
    "# start making predictions on TEM images "
   ]
  },
  {
   "cell_type": "code",
   "execution_count": null,
   "id": "43a7f979",
   "metadata": {},
   "outputs": [],
   "source": [
    "res = model.predict(\"../sample_images/sample1.jpg\",\n",
    "                  save=True,\n",
    "                  hide_labels=True,\n",
    "                  conf=0.6,\n",
    "                  iou=0.8,\n",
    "                  line_thickness=1,\n",
    "                  retina_masks=True,\n",
    "                  agnostic_nms=True)"
   ]
  },
  {
   "cell_type": "code",
   "execution_count": null,
   "id": "fa4e0994",
   "metadata": {},
   "outputs": [],
   "source": []
  },
  {
   "cell_type": "code",
   "execution_count": null,
   "id": "a6c5c7ad",
   "metadata": {},
   "outputs": [],
   "source": []
  }
 ],
 "metadata": {
  "kernelspec": {
   "display_name": "nano-paper-test6",
   "language": "python",
   "name": "nano-paper-test6"
  },
  "language_info": {
   "codemirror_mode": {
    "name": "ipython",
    "version": 3
   },
   "file_extension": ".py",
   "mimetype": "text/x-python",
   "name": "python",
   "nbconvert_exporter": "python",
   "pygments_lexer": "ipython3",
   "version": "3.10.12"
  }
 },
 "nbformat": 4,
 "nbformat_minor": 5
}
